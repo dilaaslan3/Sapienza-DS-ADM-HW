{
  "nbformat": 4,
  "nbformat_minor": 0,
  "metadata": {
    "colab": {
      "provenance": []
    },
    "kernelspec": {
      "name": "python3",
      "display_name": "Python 3"
    },
    "language_info": {
      "name": "python"
    }
  },
  "cells": [
    {
      "cell_type": "markdown",
      "source": [
        "### Introduction"
      ],
      "metadata": {
        "id": "DR15JAlUmdxn"
      }
    },
    {
      "cell_type": "markdown",
      "source": [
        "Say \"Hello, World!\" With Python"
      ],
      "metadata": {
        "id": "13JRwFV8ileE"
      }
    },
    {
      "cell_type": "code",
      "execution_count": 1,
      "metadata": {
        "colab": {
          "base_uri": "https://localhost:8080/"
        },
        "id": "-3hw2Zm3h02P",
        "outputId": "25c77ec3-2838-4b6b-8e5d-163102291c97"
      },
      "outputs": [
        {
          "output_type": "stream",
          "name": "stdout",
          "text": [
            "Hello, World!\n"
          ]
        }
      ],
      "source": [
        "print(\"Hello, World!\")"
      ]
    },
    {
      "cell_type": "markdown",
      "source": [
        "Python If-Else"
      ],
      "metadata": {
        "id": "ME3zsJygjeow"
      }
    },
    {
      "cell_type": "code",
      "source": [
        "import math\n",
        "import os\n",
        "import random\n",
        "import re\n",
        "import sys\n",
        "\n",
        "if __name__ == '__main__':\n",
        "    n = int(input().strip())\n",
        "\n",
        "if (n%2==0):\n",
        "    if n in range(2,5):\n",
        "        print(\"Not Weird\")\n",
        "    elif n in range(6, 21):\n",
        "        print(\"Weird\")\n",
        "    elif (n >20):\n",
        "        print(\"Not Weird\")\n",
        "elif (n%2!=0):\n",
        "    print(\"Weird\")\n"
      ],
      "metadata": {
        "id": "STb28ntOje7q"
      },
      "execution_count": null,
      "outputs": []
    },
    {
      "cell_type": "markdown",
      "source": [
        "Arithmetic Operators"
      ],
      "metadata": {
        "id": "Qq8ws-TCjkgL"
      }
    },
    {
      "cell_type": "code",
      "source": [
        "if __name__ == '__main__':\n",
        "    a = int(input())\n",
        "    b = int(input())\n",
        "\n",
        "print(a+b)\n",
        "print(a-b)\n",
        "print(a*b)"
      ],
      "metadata": {
        "id": "_MnrezE5jtZk"
      },
      "execution_count": null,
      "outputs": []
    },
    {
      "cell_type": "markdown",
      "source": [
        "Python: Division"
      ],
      "metadata": {
        "id": "37L3aexwjynh"
      }
    },
    {
      "cell_type": "code",
      "source": [
        "if __name__ == '__main__':\n",
        "    a = int(input())\n",
        "    b = int(input())\n",
        "\n",
        "print(a // b)\n",
        "print(a / b)"
      ],
      "metadata": {
        "id": "r0FESbeDj2MP"
      },
      "execution_count": null,
      "outputs": []
    },
    {
      "cell_type": "markdown",
      "source": [
        "Loops"
      ],
      "metadata": {
        "id": "pH_xgnv_kFN5"
      }
    },
    {
      "cell_type": "code",
      "source": [
        "if __name__ == '__main__':\n",
        "    n = int(input())\n",
        "    if n>0:\n",
        "        [print(i**2) for i in range(n)]"
      ],
      "metadata": {
        "id": "vfiad1sKkFgy"
      },
      "execution_count": null,
      "outputs": []
    },
    {
      "cell_type": "markdown",
      "source": [
        "Write a function"
      ],
      "metadata": {
        "id": "Zm7Q6TxPk__4"
      }
    },
    {
      "cell_type": "code",
      "source": [
        "def is_leap(year):\n",
        "    leap = False\n",
        "\n",
        "    if ((year%4==0) and (year%100!=0)):\n",
        "        leap=True\n",
        "\n",
        "    elif (year%400==0):\n",
        "        leap=True\n",
        "\n",
        "    return leap\n",
        "\n",
        "year = int(input())\n",
        "print(is_leap(year))"
      ],
      "metadata": {
        "id": "74rdadhhlAWc"
      },
      "execution_count": null,
      "outputs": []
    },
    {
      "cell_type": "markdown",
      "source": [
        "Print Function"
      ],
      "metadata": {
        "id": "gNdaSdoll2-F"
      }
    },
    {
      "cell_type": "code",
      "source": [
        "if __name__ == '__main__':\n",
        "    n = int(input())\n",
        "\n",
        "for i in range (1, n+1): print (i,end=\"\")"
      ],
      "metadata": {
        "id": "Vsp2nwG-l0Fi"
      },
      "execution_count": null,
      "outputs": []
    },
    {
      "cell_type": "markdown",
      "source": [
        "### Data types"
      ],
      "metadata": {
        "id": "JoV89sCfmkwd"
      }
    },
    {
      "cell_type": "markdown",
      "source": [
        "Find the Runner-Up Score"
      ],
      "metadata": {
        "id": "WFg5lHvzm4Jd"
      }
    },
    {
      "cell_type": "code",
      "source": [
        "if __name__ == '__main__':\n",
        "    n = int(input())\n",
        "    arr = map(int, input().split())\n",
        "\n",
        "    sorted_set = sorted(list(set(arr)), reverse=True)\n",
        "    print(sorted_set[1])"
      ],
      "metadata": {
        "id": "_UTopb8cnC0K"
      },
      "execution_count": null,
      "outputs": []
    },
    {
      "cell_type": "markdown",
      "source": [
        "Nested Lists"
      ],
      "metadata": {
        "id": "bp68mhcInKWi"
      }
    },
    {
      "cell_type": "code",
      "source": [
        "if __name__ == '__main__':\n",
        "    student_scores = []\n",
        "    scores = []\n",
        "    for _ in range(int(input())):\n",
        "        name = input()\n",
        "        score = float(input())\n",
        "        student_scores.append([name, score])\n",
        "        scores.append(score)\n",
        "\n",
        "    second_lowest_score = sorted(list(set(scores)))[1]\n",
        "    second_lowest_names = []\n",
        "    '''\n",
        "    for i in range(len(student_scores)):\n",
        "        if student_scores[i][1] == second_lowest_score:\n",
        "            second_lowest_list.append(student_scores[i])\n",
        "    '''\n",
        "    for name, score in student_scores:\n",
        "        if score == second_lowest_score:\n",
        "            second_lowest_names.append(name)\n",
        "\n",
        "    for name in sorted(second_lowest_names):\n",
        "        print(name, end='\\n')\n"
      ],
      "metadata": {
        "id": "zyiOq4PCm-u2"
      },
      "execution_count": null,
      "outputs": []
    },
    {
      "cell_type": "markdown",
      "source": [
        "Finding the percentage"
      ],
      "metadata": {
        "id": "rL0IyNAQnZFF"
      }
    },
    {
      "cell_type": "code",
      "source": [
        "if __name__ == '__main__':\n",
        "    n = int(input())\n",
        "    student_marks = {}\n",
        "    for _ in range(n):\n",
        "        name, *line = input().split()\n",
        "        scores = list(map(float, line))\n",
        "        student_marks[name] = scores\n",
        "    query_name = input()\n",
        "\n",
        "\n",
        "    a = sum(student_marks[query_name])/len(student_marks[query_name])\n",
        "    print(\"{:.2f}\".format(a))"
      ],
      "metadata": {
        "id": "SnCL4_l0nZzA"
      },
      "execution_count": null,
      "outputs": []
    },
    {
      "cell_type": "markdown",
      "source": [
        "Lists"
      ],
      "metadata": {
        "id": "Nlftxsnhnlma"
      }
    },
    {
      "cell_type": "code",
      "source": [
        "if __name__ == '__main__':\n",
        "    N = int(input())\n",
        "    lis = []\n",
        "    for _ in range(N):\n",
        "        s=input().strip().split(\" \")\n",
        "        if s[0]==\"insert\":\n",
        "            lis.insert(int(s[1]),int(s[2]))\n",
        "        if s[0]==\"print\":\n",
        "            print(lis)\n",
        "        if s[0]==\"remove\":\n",
        "            lis.remove(int(s[1]))\n",
        "        if s[0]==\"append\":\n",
        "            lis.append(int(s[1]))\n",
        "        if s[0]==\"sort\":\n",
        "            lis.sort()\n",
        "        if s[0]==\"pop\":\n",
        "            lis.pop()\n",
        "        if s[0]==\"reverse\":\n",
        "            lis.reverse()"
      ],
      "metadata": {
        "id": "TIcmuK2enpvC"
      },
      "execution_count": null,
      "outputs": []
    },
    {
      "cell_type": "markdown",
      "source": [
        "Tuples"
      ],
      "metadata": {
        "id": "lg5J4Lfyn2zd"
      }
    },
    {
      "cell_type": "code",
      "source": [
        "if __name__ == '__main__':\n",
        "    n = int(raw_input())\n",
        "    integer_list = map(int, raw_input().split())\n",
        "    print(hash(tuple(integer_list)))"
      ],
      "metadata": {
        "id": "89kVPFFLn3LJ"
      },
      "execution_count": null,
      "outputs": []
    },
    {
      "cell_type": "markdown",
      "source": [
        "### Strings"
      ],
      "metadata": {
        "id": "peOMq740pcd_"
      }
    },
    {
      "cell_type": "markdown",
      "source": [
        "sWAP cASE"
      ],
      "metadata": {
        "id": "l4KhnUT2pfll"
      }
    },
    {
      "cell_type": "code",
      "source": [
        "def swap_case(s):\n",
        "    newstring =''\n",
        "\n",
        "    for a in s:\n",
        "\n",
        "        # Checking for lowercase letter and\n",
        "        # converting to uppercase.\n",
        "        if (a.isupper()) == True:\n",
        "            newstring+=(a.lower())\n",
        "\n",
        "        # Checking for uppercase letter and\n",
        "        # converting to lowercase.\n",
        "        elif (a.islower()) == True:\n",
        "            newstring+=(a.upper())\n",
        "\n",
        "        # Checking for whitespace letter and\n",
        "        # adding it to the new string as it is.\n",
        "        elif (a.isspace()) == True:\n",
        "            newstring+= a\n",
        "\n",
        "        else:\n",
        "            newstring+= a\n",
        "\n",
        "    return newstring"
      ],
      "metadata": {
        "id": "c7y-vRl0peej"
      },
      "execution_count": null,
      "outputs": []
    },
    {
      "cell_type": "markdown",
      "source": [
        "String Split and Join"
      ],
      "metadata": {
        "id": "Dr15baMKpyhb"
      }
    },
    {
      "cell_type": "code",
      "source": [
        "def split_and_join(line):\n",
        "    # write your code here\n",
        "    splitted_line = line.split(\" \")\n",
        "    splitted_line = \"-\".join(splitted_line)\n",
        "    return splitted_line"
      ],
      "metadata": {
        "id": "0GQ6f8Tgpy8R"
      },
      "execution_count": null,
      "outputs": []
    },
    {
      "cell_type": "markdown",
      "source": [
        "What's Your Name?"
      ],
      "metadata": {
        "id": "GgVdLYBqqCAS"
      }
    },
    {
      "cell_type": "code",
      "source": [
        "def print_full_name(first, last):\n",
        "    print(\"Hello \" + first + \" \" + last + \"! You just delved into python.\")\n",
        "\n"
      ],
      "metadata": {
        "id": "cYHNROKLqCuH"
      },
      "execution_count": null,
      "outputs": []
    },
    {
      "cell_type": "markdown",
      "source": [
        "Mutations"
      ],
      "metadata": {
        "id": "XxzeG0nrqUzE"
      }
    },
    {
      "cell_type": "code",
      "source": [
        "def mutate_string(string, position, character):\n",
        "    return string[:position] + character + string[position + 1:]"
      ],
      "metadata": {
        "id": "T6YB9FNSqVJG"
      },
      "execution_count": null,
      "outputs": []
    },
    {
      "cell_type": "markdown",
      "source": [
        "Find a string"
      ],
      "metadata": {
        "id": "1Y59d0SWqajp"
      }
    },
    {
      "cell_type": "code",
      "source": [
        "def count_substring(string, sub_string):\n",
        "    count = 0\n",
        "    for i in range(len(string)):\n",
        "        if string[i:].startswith(sub_string):\n",
        "            count += 1\n",
        "    return count"
      ],
      "metadata": {
        "id": "mav_3aS-qfBE"
      },
      "execution_count": null,
      "outputs": []
    },
    {
      "cell_type": "markdown",
      "source": [
        "String Validators"
      ],
      "metadata": {
        "id": "t1bhlWuUqjXS"
      }
    },
    {
      "cell_type": "code",
      "source": [
        "if __name__ == '__main__':\n",
        "    s = input()\n",
        "    print(any(c.isalnum() for c in s))\n",
        "    print(any(c.isalpha() for c in s))\n",
        "    print(any(c.isdigit() for c in s))\n",
        "    print(any(c.islower() for c in s))\n",
        "    print(any(c.isupper() for c in s))"
      ],
      "metadata": {
        "id": "_8rkkNIDqqJ_"
      },
      "execution_count": null,
      "outputs": []
    },
    {
      "cell_type": "markdown",
      "source": [
        "Text Alignment"
      ],
      "metadata": {
        "id": "rcZylkcfrYmH"
      }
    },
    {
      "cell_type": "code",
      "source": [
        "#Replace all ______ with rjust, ljust or center.\n",
        "\n",
        "thickness = int(input()) #This must be an odd number\n",
        "c = 'H'\n",
        "\n",
        "#Top Cone\n",
        "for i in range(thickness):\n",
        "    print((c*i).rjust(thickness-1)+c+(c*i).ljust(thickness-1))\n",
        "\n",
        "#Top Pillars\n",
        "for i in range(thickness+1):\n",
        "    print((c*thickness).center(thickness*2)+(c*thickness).center(thickness*6))\n",
        "\n",
        "#Middle Belt\n",
        "for i in range((thickness+1)//2):\n",
        "    print((c*thickness*5).center(thickness*6))\n",
        "\n",
        "#Bottom Pillars\n",
        "for i in range(thickness+1):\n",
        "    print((c*thickness).center(thickness*2)+(c*thickness).center(thickness*6))\n",
        "\n",
        "#Bottom Cone\n",
        "for i in range(thickness):\n",
        "    print(((c*(thickness-i-1)).rjust(thickness)+c+(c*(thickness-i-1)).ljust(thickness)).rjust(thickness*6))"
      ],
      "metadata": {
        "id": "KZOPz_ETrY9J"
      },
      "execution_count": null,
      "outputs": []
    },
    {
      "cell_type": "markdown",
      "source": [
        "Text Wrap"
      ],
      "metadata": {
        "id": "U5-UD7AxrbpO"
      }
    },
    {
      "cell_type": "code",
      "source": [
        "import textwrap\n",
        "\n",
        "def wrap(string, max_width):\n",
        "    return textwrap.fill(string, max_width)\n",
        "\n",
        "if __name__ == '__main__':\n",
        "    string, max_width = input(), int(input())\n",
        "    result = wrap(string, max_width)\n",
        "    print(result)"
      ],
      "metadata": {
        "id": "dj2AHCjPrwPh"
      },
      "execution_count": null,
      "outputs": []
    },
    {
      "cell_type": "markdown",
      "source": [
        "Designer Door Mat"
      ],
      "metadata": {
        "id": "vuLwGFktsCUf"
      }
    },
    {
      "cell_type": "code",
      "source": [
        "n, m = map(int,input().split())\n",
        "pattern = [('.|.'*(2*i + 1)).center(m, '-') for i in range(n//2)]\n",
        "print('\\n'.join(pattern + ['WELCOME'.center(m, '-')] + pattern[::-1]))"
      ],
      "metadata": {
        "id": "GzaIyVd-sCrx"
      },
      "execution_count": null,
      "outputs": []
    },
    {
      "cell_type": "markdown",
      "source": [
        "String Formatting"
      ],
      "metadata": {
        "id": "luu6xcv7sQCL"
      }
    },
    {
      "cell_type": "code",
      "source": [
        "def print_formatted(number):\n",
        "    # your code goes here\n",
        "    n_bin = format(number, 'b')\n",
        "    size = len(n_bin)\n",
        "\n",
        "    for i in range(1, n+1):\n",
        "        octal_n = format(i, 'o')\n",
        "        hexadecimal_n = format(i, 'X')\n",
        "        binary_n = format(i, 'b')\n",
        "\n",
        "        print(str(i).rjust(size),str(octal_n).rjust(size),str(hexadecimal_n).rjust(size),str(binary_n).rjust(size))\n",
        "\n",
        "\n",
        "\n",
        "if __name__ == '__main__':\n",
        "    n = int(input())\n",
        "    print_formatted(n)"
      ],
      "metadata": {
        "id": "wZNcphkEsQV7"
      },
      "execution_count": null,
      "outputs": []
    },
    {
      "cell_type": "markdown",
      "source": [
        "Alphabet Rangoli"
      ],
      "metadata": {
        "id": "y5mqi55PsV7G"
      }
    },
    {
      "cell_type": "code",
      "source": [
        "def print_rangoli(size):\n",
        "    from string import ascii_lowercase as chars\n",
        "    heap = [(('-'.join(chars[i:n])[::-1]+'-'.join(chars[i:n])[1:])).center(4*n-3, '-')for i in range(n)]\n",
        "    print(*(heap[::-1]+heap[1:]), sep=\"\\n\")"
      ],
      "metadata": {
        "id": "9a-CF2Y8sWPT"
      },
      "execution_count": null,
      "outputs": []
    },
    {
      "cell_type": "markdown",
      "source": [
        "Capitalize!"
      ],
      "metadata": {
        "id": "2YNEIq35se1O"
      }
    },
    {
      "cell_type": "code",
      "source": [
        "def solve(s):\n",
        "    for i in s.split():\n",
        "        s = s.replace(i, i.capitalize())\n",
        "\n",
        "    return s"
      ],
      "metadata": {
        "id": "39j1S2MdsfRM"
      },
      "execution_count": null,
      "outputs": []
    },
    {
      "cell_type": "markdown",
      "source": [
        "The Minion Game"
      ],
      "metadata": {
        "id": "5XyO-jvGsroo"
      }
    },
    {
      "cell_type": "code",
      "source": [
        "def minion_game(string):\n",
        "    # your code goes here\n",
        "    s_len = len(string)\n",
        "    vowel, consonant = 0, 0\n",
        "\n",
        "    for i in range(s_len):\n",
        "        if string[i] in 'AEIOU':\n",
        "            vowel = vowel + (s_len-i)\n",
        "        else:\n",
        "            consonant = consonant + (s_len-i)\n",
        "\n",
        "    if vowel>consonant:\n",
        "        print(\"Kevin\", f'{vowel}')\n",
        "    elif consonant>vowel:\n",
        "        print(\"Stuart\", f'{consonant}')\n",
        "    else:\n",
        "        print('Draw')"
      ],
      "metadata": {
        "id": "1jm6v_gTssAz"
      },
      "execution_count": null,
      "outputs": []
    },
    {
      "cell_type": "markdown",
      "source": [
        "Merge the Tools!"
      ],
      "metadata": {
        "id": "_Dxq8lJbs1bX"
      }
    },
    {
      "cell_type": "code",
      "source": [
        "def merge_the_tools(string, k):\n",
        "\n",
        "    for part in zip(*[iter(string)] * k):\n",
        "        d = dict()\n",
        "        print(''.join([ d.setdefault(c, c) for c in part if c not in d ]))"
      ],
      "metadata": {
        "id": "oWrZUh-fs14T"
      },
      "execution_count": null,
      "outputs": []
    },
    {
      "cell_type": "markdown",
      "source": [
        "### Sets"
      ],
      "metadata": {
        "id": "o_7AUz6ss-qh"
      }
    },
    {
      "cell_type": "markdown",
      "source": [
        "Introduction to Sets"
      ],
      "metadata": {
        "id": "nb0C7hNStdSA"
      }
    },
    {
      "cell_type": "code",
      "source": [
        "def average(array):\n",
        "    return sum(set(array))/(len(set(array)))\n",
        "\n",
        "if __name__ == '__main__':\n",
        "    n = int(input())\n",
        "    arr = list(map(int, input().split()))\n",
        "    result = average(arr)\n",
        "    print(result)"
      ],
      "metadata": {
        "id": "zmtRFGBPtCIv"
      },
      "execution_count": null,
      "outputs": []
    },
    {
      "cell_type": "markdown",
      "source": [
        "No Idea!"
      ],
      "metadata": {
        "id": "qqvT7ATItrFV"
      }
    },
    {
      "cell_type": "code",
      "source": [
        "# Enter your code here. Read input from STDIN. Print output to STDOUT\n",
        "_ = input().split()\n",
        "array = input().split()\n",
        "set_A, set_B = set(input().split()), set(input().split())\n",
        "happiness = 0\n",
        "\n",
        "for a in array:\n",
        "    if a in set_A:\n",
        "        happiness += 1\n",
        "    elif a in set_B:\n",
        "        happiness -= 1\n",
        "print(happiness)"
      ],
      "metadata": {
        "id": "Z73c89qttrmZ"
      },
      "execution_count": null,
      "outputs": []
    },
    {
      "cell_type": "markdown",
      "source": [
        "Symmetric Difference"
      ],
      "metadata": {
        "id": "TYQAtrS8txKR"
      }
    },
    {
      "cell_type": "code",
      "source": [
        "# Enter your code here. Read input from STDIN. Print output to STDOUT\n",
        "\n",
        "m_len = int(input())\n",
        "m_set = set(map(int, input().split()))\n",
        "n_len = int(input())\n",
        "n_set = set(map(int, input().split()))\n",
        "\n",
        "a = m_set.difference(n_set)\n",
        "b = n_set.difference(m_set)\n",
        "for i in sorted(a.union(b)):\n",
        "    print(i)"
      ],
      "metadata": {
        "id": "d5q3TRputxnW"
      },
      "execution_count": null,
      "outputs": []
    },
    {
      "cell_type": "markdown",
      "source": [
        "Set .add()"
      ],
      "metadata": {
        "id": "gk412JjRt21A"
      }
    },
    {
      "cell_type": "code",
      "source": [
        "# Enter your code here. Read input from STDIN. Print output to STDOUT\n",
        "sets = set()\n",
        "\n",
        "for _ in range(int(input())):\n",
        "    sets.add(input())\n",
        "\n",
        "print(len(sets))"
      ],
      "metadata": {
        "id": "2i-c8L9Gt3sF"
      },
      "execution_count": null,
      "outputs": []
    },
    {
      "cell_type": "markdown",
      "source": [
        "Set .discard(), .remove() & .pop()"
      ],
      "metadata": {
        "id": "06Pr0raVt-cC"
      }
    },
    {
      "cell_type": "code",
      "source": [
        "n = int(input())\n",
        "s = set(map(int, input().split()))\n",
        "N = int(input())\n",
        "\n",
        "for _ in range(N):\n",
        "    x = input().split()\n",
        "    if len(x) == 1:\n",
        "        s.pop()\n",
        "    elif x[0] == 'remove':\n",
        "        try:\n",
        "            s.remove(int(x[1]))\n",
        "        except:\n",
        "            next\n",
        "    elif x[0] == 'discard':\n",
        "        s.discard(int(x[1]))\n",
        "print(sum(s))"
      ],
      "metadata": {
        "id": "4IoLcO66t-8R"
      },
      "execution_count": null,
      "outputs": []
    },
    {
      "cell_type": "markdown",
      "source": [
        "Set .union() Operation"
      ],
      "metadata": {
        "id": "jew0QkSZuBs7"
      }
    },
    {
      "cell_type": "code",
      "source": [
        "# Enter your code here. Read input from STDIN. Print output to STDOUT\n",
        "n = int(input())\n",
        "set_n = set(input().split())\n",
        "b = int(input())\n",
        "set_b = set(input().split())\n",
        "\n",
        "print(len(set_n.union(set_b)))"
      ],
      "metadata": {
        "id": "6xLHL9dVuImE"
      },
      "execution_count": null,
      "outputs": []
    },
    {
      "cell_type": "markdown",
      "source": [
        "Set .intersection() Operation"
      ],
      "metadata": {
        "id": "jqCy2SS8uOIy"
      }
    },
    {
      "cell_type": "code",
      "source": [
        "n = int(input())\n",
        "set_n = set(input().split())\n",
        "b = int(input())\n",
        "set_b = set(input().split())\n",
        "\n",
        "print(len(set_n.intersection(set_b)))"
      ],
      "metadata": {
        "id": "jwvfCzbVuOh-"
      },
      "execution_count": null,
      "outputs": []
    },
    {
      "cell_type": "markdown",
      "source": [
        "Set .difference() Operation"
      ],
      "metadata": {
        "id": "d9SSlV77uX-G"
      }
    },
    {
      "cell_type": "code",
      "source": [
        "n = int(input())\n",
        "set_n = set(input().split())\n",
        "b = int(input())\n",
        "set_b = set(input().split())\n",
        "\n",
        "print(len(set_n.difference(set_b)))"
      ],
      "metadata": {
        "id": "5qBvdtwAuaW0"
      },
      "execution_count": null,
      "outputs": []
    },
    {
      "cell_type": "markdown",
      "source": [
        "Set .symmetric_difference() Operation"
      ],
      "metadata": {
        "id": "qem2b7Xauqh1"
      }
    },
    {
      "cell_type": "code",
      "source": [
        "n = int(input())\n",
        "set_n = set(input().split())\n",
        "b = int(input())\n",
        "set_b = set(input().split())\n",
        "\n",
        "print(len(set_n ^ set_b))"
      ],
      "metadata": {
        "id": "MtDJORkVuq8C"
      },
      "execution_count": null,
      "outputs": []
    },
    {
      "cell_type": "markdown",
      "source": [
        "Set Mutations"
      ],
      "metadata": {
        "id": "sR3Fqzn2uv4y"
      }
    },
    {
      "cell_type": "code",
      "source": [
        "# Enter your code here. Read input from STDIN. Print output to STDOUT\n",
        "n, set_A = int(input()), set(input().split())\n",
        "\n",
        "for _ in range(int(input())):\n",
        "    operations, set_B = input().split(), input().split()\n",
        "\n",
        "    if operations[0] == 'intersection_update':\n",
        "        set_A.intersection_update(set_B)\n",
        "    elif operations[0] == 'difference_update':\n",
        "        set_A.difference_update(set_B)\n",
        "    elif operations[0] == 'symmetric_difference_update':\n",
        "        set_A.symmetric_difference_update(set_B)\n",
        "    elif operations[0] == 'update':\n",
        "        set_A.update(set_B)\n",
        "print(sum(map(int, set_A)))"
      ],
      "metadata": {
        "id": "reugQ5xYuwSm"
      },
      "execution_count": null,
      "outputs": []
    },
    {
      "cell_type": "markdown",
      "source": [
        "The Captain's Room"
      ],
      "metadata": {
        "id": "-57c1vCcu30j"
      }
    },
    {
      "cell_type": "code",
      "source": [
        "# Enter your code here. Read input from STDIN. Print output to STDOUT\n",
        "_ = input()\n",
        "set1 = set()\n",
        "set2 = set()\n",
        "\n",
        "for room in (input().split()):\n",
        "    if room not in set1:\n",
        "        set1.add(room)\n",
        "    else:\n",
        "        set2.add(room)\n",
        "\n",
        "set1.difference_update(set2)\n",
        "print(set1.pop())"
      ],
      "metadata": {
        "id": "5qa8rZKqu4J1"
      },
      "execution_count": null,
      "outputs": []
    },
    {
      "cell_type": "markdown",
      "source": [
        "Check Subset"
      ],
      "metadata": {
        "id": "lKJebR4hvD25"
      }
    },
    {
      "cell_type": "code",
      "source": [
        "for _ in range(int(input())):\n",
        "    set_1, set_2 = int(input()), set(input().split())\n",
        "    set_3, set_4 = int(input()), set(input().split())\n",
        "    print(set_2.issubset(set_4))"
      ],
      "metadata": {
        "id": "_cbb9dNLvBm8"
      },
      "execution_count": null,
      "outputs": []
    },
    {
      "cell_type": "markdown",
      "source": [
        "Check Strict Superset"
      ],
      "metadata": {
        "id": "jjC99MxzvKKv"
      }
    },
    {
      "cell_type": "code",
      "source": [
        "set_A = set(input().split())\n",
        "n = int(input())\n",
        "\n",
        "count = 0\n",
        "check = True\n",
        "for _ in range(n):\n",
        "    if not set_A.issuperset(set(input().split())):\n",
        "        check = False\n",
        "        break\n",
        "print(check)"
      ],
      "metadata": {
        "id": "sIkJMzQhvKme"
      },
      "execution_count": null,
      "outputs": []
    },
    {
      "cell_type": "markdown",
      "source": [
        "### Collections"
      ],
      "metadata": {
        "id": "sovaI0zgvZEU"
      }
    },
    {
      "cell_type": "markdown",
      "source": [
        "collections.Counter()"
      ],
      "metadata": {
        "id": "YXuPNIP5vcOW"
      }
    },
    {
      "cell_type": "code",
      "source": [
        "from collections import Counter\n",
        "\n",
        "num_shoes = int(input())\n",
        "shoe_sizes = Counter(map(int, input().split()))\n",
        "num_customers = int(input())\n",
        "\n",
        "cost = 0\n",
        "for _ in range(num_customers):\n",
        "    size, price = map(int, input().split())\n",
        "    if shoe_sizes[size]:\n",
        "        cost += price\n",
        "        shoe_sizes[size] -= 1\n",
        "\n",
        "print(cost)"
      ],
      "metadata": {
        "id": "Hqs4a7irvaZb"
      },
      "execution_count": null,
      "outputs": []
    },
    {
      "cell_type": "markdown",
      "source": [
        "DefaultDict Tutorial"
      ],
      "metadata": {
        "id": "dAj6uQO6vicQ"
      }
    },
    {
      "cell_type": "code",
      "source": [
        "from collections import defaultdict\n",
        "\n",
        "n, m = map(int, input().split())\n",
        "d = defaultdict(list)\n",
        "\n",
        "for i in range(n):\n",
        "    d[input()].append(i+1)\n",
        "\n",
        "for j in range(m):\n",
        "    x = input()\n",
        "    if x in d:\n",
        "        print(*d[x])\n",
        "    else:\n",
        "        print(-1)"
      ],
      "metadata": {
        "id": "yFWl153Bvir7"
      },
      "execution_count": null,
      "outputs": []
    },
    {
      "cell_type": "markdown",
      "source": [
        "Collections.namedtuple()"
      ],
      "metadata": {
        "id": "fExIy-clvnaE"
      }
    },
    {
      "cell_type": "code",
      "source": [
        "from collections import namedtuple\n",
        "\n",
        "n = int(input())\n",
        "fields = input().split()\n",
        "total_marks = 0\n",
        "\n",
        "for _ in range(n):\n",
        "    students = namedtuple('student', fields)\n",
        "    MARKS, CLASS, NAME, ID = input().split()\n",
        "    student = students(MARKS, CLASS, NAME, ID)\n",
        "    total_marks += int(student.MARKS)\n",
        "print('{:.2f}'.format(total_marks / n))"
      ],
      "metadata": {
        "id": "tS7VEeHPvnvy"
      },
      "execution_count": null,
      "outputs": []
    },
    {
      "cell_type": "markdown",
      "source": [
        "Collections.OrderedDict()"
      ],
      "metadata": {
        "id": "cIVjRbAqvrF9"
      }
    },
    {
      "cell_type": "code",
      "source": [
        "from collections import OrderedDict\n",
        "\n",
        "order = OrderedDict()\n",
        "for _ in range(int(input())):\n",
        "    item_name, space, net_price = input().rpartition(' ')\n",
        "    order[item_name] = order.get(item_name, 0) + int(net_price)\n",
        "for item_name, net_price in order.items():\n",
        "    print(item_name, net_price)\n"
      ],
      "metadata": {
        "id": "MPiZ8kdhvyO4"
      },
      "execution_count": null,
      "outputs": []
    },
    {
      "cell_type": "markdown",
      "source": [
        "Word Order"
      ],
      "metadata": {
        "id": "QQey9Enfv-UL"
      }
    },
    {
      "cell_type": "code",
      "source": [
        "from collections import OrderedDict\n",
        "\n",
        "ordered_dict = OrderedDict()\n",
        "\n",
        "for _ in range(int(input())):\n",
        "    key = input()\n",
        "    ordered_dict[key] = ordered_dict.get(key, 0) + 1\n",
        "\n",
        "print(len(ordered_dict))\n",
        "print(*ordered_dict.values())"
      ],
      "metadata": {
        "id": "T6vKIFWZv-uT"
      },
      "execution_count": null,
      "outputs": []
    },
    {
      "cell_type": "markdown",
      "source": [
        "Collections.deque()"
      ],
      "metadata": {
        "id": "N5VDy9-RwFPc"
      }
    },
    {
      "cell_type": "code",
      "source": [
        "from collections import deque\n",
        "\n",
        "dq = deque()\n",
        "\n",
        "for i in range(int(input())):\n",
        "    command = input().split()\n",
        "\n",
        "    if command[0] == 'append':\n",
        "        dq.append(command[1])\n",
        "\n",
        "    elif command[0] == 'appendleft':\n",
        "        dq.appendleft(command[1])\n",
        "\n",
        "    elif command[0] == 'pop':\n",
        "        dq.pop()\n",
        "\n",
        "    else:\n",
        "        dq.popleft()\n",
        "print(' '.join(dq))"
      ],
      "metadata": {
        "id": "x03EZ0ZwwFry"
      },
      "execution_count": null,
      "outputs": []
    },
    {
      "cell_type": "markdown",
      "source": [
        "Company Logo"
      ],
      "metadata": {
        "id": "AzBqL3BnwLyk"
      }
    },
    {
      "cell_type": "code",
      "source": [
        "import math\n",
        "import os\n",
        "import random\n",
        "import re\n",
        "import sys\n",
        "from collections import Counter\n",
        "\n",
        "\n",
        "if __name__ == '__main__':\n",
        "    s = input()\n",
        "    s = sorted(s)\n",
        "\n",
        "    # using counter method to find the frequency of each of the words\n",
        "    FREQUENCY = Counter(list(s))\n",
        "\n",
        "    # using for loop to print the three words with frequency\n",
        "    for k, v in FREQUENCY.most_common(3):\n",
        "        print(k, v)"
      ],
      "metadata": {
        "id": "y0Ir9JTHwMNJ"
      },
      "execution_count": null,
      "outputs": []
    },
    {
      "cell_type": "markdown",
      "source": [
        "Piling Up!"
      ],
      "metadata": {
        "id": "OIvAI9BOwSBT"
      }
    },
    {
      "cell_type": "code",
      "source": [
        "for j in range(int(input())):\n",
        "    l = int(input())\n",
        "    Lsides = list(map(int, input().split()))\n",
        "    i = 0\n",
        "    while i < l - 1 and Lsides[i] >= Lsides[i + 1]:\n",
        "        i += 1\n",
        "    while i < l - 1 and Lsides[i] <= Lsides[i + 1]:\n",
        "        i += 1\n",
        "    if i == l-1:\n",
        "        print('Yes')\n",
        "    else:\n",
        "        print('No')"
      ],
      "metadata": {
        "id": "vxHPUnrBwSb0"
      },
      "execution_count": null,
      "outputs": []
    },
    {
      "cell_type": "markdown",
      "source": [
        "### Date and Time"
      ],
      "metadata": {
        "id": "GO-eVcJkwidz"
      }
    },
    {
      "cell_type": "markdown",
      "source": [
        "Calendar Module"
      ],
      "metadata": {
        "id": "tBPmAl5dwoju"
      }
    },
    {
      "cell_type": "code",
      "source": [
        "import calendar\n",
        "import datetime\n",
        "\n",
        "m, d, y = map(int, input().split())\n",
        "selected_date = datetime.date(y, m, d)\n",
        "print(calendar.day_name[selected_date.weekday()].upper())\n"
      ],
      "metadata": {
        "id": "BUuH9rzjwjdN"
      },
      "execution_count": null,
      "outputs": []
    },
    {
      "cell_type": "markdown",
      "source": [
        "Time Delta"
      ],
      "metadata": {
        "id": "Dn1MX1LTwsT1"
      }
    },
    {
      "cell_type": "code",
      "source": [
        "import math\n",
        "import os\n",
        "import random\n",
        "import re\n",
        "import sys\n",
        "from datetime import datetime\n",
        "\n",
        "# Complete the time_delta function below.\n",
        "def time_delta(t1, t2):\n",
        "    time_format = '%a %d %b %Y %H:%M:%S %z'\n",
        "    t1 = datetime.strptime(t1, time_format)\n",
        "    t2 = datetime.strptime(t2, time_format)\n",
        "    return str(int(abs((t1-t2).total_seconds())))\n",
        "\n",
        "if __name__ == '__main__':\n",
        "    fptr = open(os.environ['OUTPUT_PATH'], 'w')\n",
        "\n",
        "    t = int(input())\n",
        "\n",
        "    for t_itr in range(t):\n",
        "        t1 = input()\n",
        "\n",
        "        t2 = input()\n",
        "\n",
        "        delta = time_delta(t1, t2)\n",
        "\n",
        "        fptr.write(delta + '\\n')\n",
        "\n",
        "    fptr.close()"
      ],
      "metadata": {
        "id": "FgxGoqqHwsom"
      },
      "execution_count": null,
      "outputs": []
    },
    {
      "cell_type": "markdown",
      "source": [
        "### Exceptions"
      ],
      "metadata": {
        "id": "baR2kAybw5vd"
      }
    },
    {
      "cell_type": "code",
      "source": [
        "for _ in range(int(input())):\n",
        "    a, b = input().split()\n",
        "\n",
        "    try:\n",
        "        print(int(a) // int(b))\n",
        "\n",
        "    except Exception as e:\n",
        "        print('Error Code: ' + str(e))"
      ],
      "metadata": {
        "id": "0mK3hMqdw-aQ"
      },
      "execution_count": null,
      "outputs": []
    },
    {
      "cell_type": "markdown",
      "source": [
        "### Built-ins"
      ],
      "metadata": {
        "id": "o3VtIfSpxJXS"
      }
    },
    {
      "cell_type": "markdown",
      "source": [
        "Zipped!"
      ],
      "metadata": {
        "id": "YJiUbTg0xS3G"
      }
    },
    {
      "cell_type": "code",
      "source": [
        "n, x = map(int, input().split())\n",
        "\n",
        "score = []\n",
        "for _ in range(x):\n",
        "    score.append(map(float, input().split()))\n",
        "\n",
        "for i in zip(*score):\n",
        "    print(sum(i) / len(i))\n"
      ],
      "metadata": {
        "id": "wd_NR-ZTxKHV"
      },
      "execution_count": null,
      "outputs": []
    },
    {
      "cell_type": "markdown",
      "source": [
        "Athlete Sort"
      ],
      "metadata": {
        "id": "08o_6bZxxYE0"
      }
    },
    {
      "cell_type": "code",
      "source": [
        "import math\n",
        "import os\n",
        "import random\n",
        "import re\n",
        "import sys\n",
        "\n",
        "\n",
        "\n",
        "if __name__ == '__main__':\n",
        "    nm = input().split()\n",
        "\n",
        "    n = int(nm[0])\n",
        "\n",
        "    m = int(nm[1])\n",
        "\n",
        "    arr = []\n",
        "\n",
        "    for _ in range(n):\n",
        "        arr.append(list(map(int, input().rstrip().split())))\n",
        "\n",
        "    k = int(input())\n"
      ],
      "metadata": {
        "id": "R8S8krLXxYc8"
      },
      "execution_count": null,
      "outputs": []
    },
    {
      "cell_type": "markdown",
      "source": [
        "ginortS"
      ],
      "metadata": {
        "id": "Tjp7JwNExfBh"
      }
    },
    {
      "cell_type": "code",
      "source": [
        "s = input()\n",
        "\n",
        "s = sorted(s,key = lambda x:(x.isdigit() and int(x)%2==0, x.isdigit(),x.isupper(),x.islower(),x))\n",
        "\n",
        "print(*(s),sep = '')"
      ],
      "metadata": {
        "id": "1feVMgPuxfXl"
      },
      "execution_count": null,
      "outputs": []
    },
    {
      "cell_type": "markdown",
      "source": [
        "### Python Functionals"
      ],
      "metadata": {
        "id": "e-ot7Ye6xqqq"
      }
    },
    {
      "cell_type": "code",
      "source": [
        "cube = lambda x: x ** 3\n",
        "\n",
        "def fibonacci(n):\n",
        "    a, b, c = 0, 1, 1\n",
        "    for _ in range(n):\n",
        "            yield a\n",
        "            a, b = b, a + b\n",
        "\n",
        "if __name__ == '__main__':\n",
        "    n = int(input())\n",
        "    print(list(map(cube, fibonacci(n))))"
      ],
      "metadata": {
        "id": "xPzOF0z3xrkk"
      },
      "execution_count": null,
      "outputs": []
    },
    {
      "cell_type": "markdown",
      "source": [
        "###  Regex and Parsing challenges"
      ],
      "metadata": {
        "id": "pqjY0_9exxzT"
      }
    },
    {
      "cell_type": "markdown",
      "source": [
        "Detect Floating Point Number"
      ],
      "metadata": {
        "id": "VEUE18xbx3nl"
      }
    },
    {
      "cell_type": "code",
      "source": [
        "import re\n",
        "\n",
        "flaot_regex = re.compile(\"[+-]?[0-9]*\\.[0-9]+\")\n",
        "\n",
        "def float_check(s):\n",
        "\n",
        "    if flaot_regex.fullmatch(s):\n",
        "        return True\n",
        "    else:\n",
        "        return False\n",
        "\n",
        "i = int(input())\n",
        "for i in range(i):\n",
        "    print(float_check(input()))\n"
      ],
      "metadata": {
        "id": "-zVKJm-Dxyn-"
      },
      "execution_count": null,
      "outputs": []
    },
    {
      "cell_type": "markdown",
      "source": [
        "Re.split()"
      ],
      "metadata": {
        "id": "eaxpIBx5x9Nm"
      }
    },
    {
      "cell_type": "code",
      "source": [
        "regex_pattern = r\"\"\t# Do not delete 'r'.\n",
        "regex_pattern = r'[.,]+'\n",
        "\n",
        "import re\n",
        "print(\"\\n\".join(re.split(regex_pattern, input())))"
      ],
      "metadata": {
        "id": "BsnJ7yYtx97S"
      },
      "execution_count": null,
      "outputs": []
    },
    {
      "cell_type": "markdown",
      "source": [
        "Group(), Groups() & Groupdict()"
      ],
      "metadata": {
        "id": "5j6pR8OUyAlj"
      }
    },
    {
      "cell_type": "code",
      "source": [
        "import re\n",
        "m = re.findall(r\"([A-Za-z0-9])\\1+\",input())\n",
        "if m:\n",
        "    print(m[0])\n",
        "else:\n",
        "    print(-1)"
      ],
      "metadata": {
        "id": "j1sy-itvyERZ"
      },
      "execution_count": null,
      "outputs": []
    },
    {
      "cell_type": "markdown",
      "source": [
        "Re.findall() & Re.finditer()"
      ],
      "metadata": {
        "id": "oLM0TRNFyKxY"
      }
    },
    {
      "cell_type": "code",
      "source": [
        "import re\n",
        "v = \"aeiou\"\n",
        "c = \"qwrtypsdfghjklzxcvbnm\"\n",
        "m = re.findall(r\"(?<=[%s])([%s]{2,})[%s]\" % (c, v, c), input(), flags = re.I)\n",
        "print('\\n'.join(m or ['-1']))"
      ],
      "metadata": {
        "id": "FwB81f7xyLMv"
      },
      "execution_count": null,
      "outputs": []
    },
    {
      "cell_type": "markdown",
      "source": [
        "Re.start() & Re.end()"
      ],
      "metadata": {
        "id": "Ji_-X-07yQip"
      }
    },
    {
      "cell_type": "code",
      "source": [
        "import re\n",
        "\n",
        "S = input()\n",
        "k = input()\n",
        "\n",
        "pattern = re.compile(k)\n",
        "r = pattern.search(S)\n",
        "\n",
        "if not r: print(\"(-1, -1)\")\n",
        "while r:\n",
        "    print(\"({0}, {1})\".format(r.start(), r.end() - 1))\n",
        "    r = pattern.search(S,r.start() + 1)"
      ],
      "metadata": {
        "id": "hnyMnzpwyREu"
      },
      "execution_count": null,
      "outputs": []
    },
    {
      "cell_type": "markdown",
      "source": [
        "Regex Substitution"
      ],
      "metadata": {
        "id": "lyugtO6QyTRd"
      }
    },
    {
      "cell_type": "code",
      "source": [
        "import re\n",
        "n = int(input())\n",
        "string = '\\n'.join([input() for _ in range(n)])\n",
        "print(re.sub(r\"(?<=(\\s))\\|\\|(?=(\\s))\", 'or', re.sub(r\"(?<=(\\s))&&(?=(\\s))\", 'and', string)))"
      ],
      "metadata": {
        "id": "4MvsNwouyWWu"
      },
      "execution_count": null,
      "outputs": []
    },
    {
      "cell_type": "markdown",
      "source": [
        "Validating Roman Numerals"
      ],
      "metadata": {
        "id": "N6T-7SSkybsd"
      }
    },
    {
      "cell_type": "code",
      "source": [
        "regex_pattern = r\"^(?!$)M{0,3}(CD|CM|D?C{0,3})(XL|XC|L?X{0,3})(IV|IX|V?I{0,3})$\"\n",
        "\n",
        "import re\n",
        "print(str(bool(re.match(regex_pattern, input()))))"
      ],
      "metadata": {
        "id": "QAu1ph6mycGk"
      },
      "execution_count": null,
      "outputs": []
    },
    {
      "cell_type": "markdown",
      "source": [
        "Validating phone numbers"
      ],
      "metadata": {
        "id": "eQsogYfhyjbF"
      }
    },
    {
      "cell_type": "code",
      "source": [
        "import re\n",
        "\n",
        "for _ in range(int(input())): print (\"YES\" if re.search(r'^[789]\\d{9}$', input()) is not None else \"NO\")"
      ],
      "metadata": {
        "id": "GFPSXO_qyj4D"
      },
      "execution_count": null,
      "outputs": []
    },
    {
      "cell_type": "markdown",
      "source": [
        "Validating and Parsing Email Addresses"
      ],
      "metadata": {
        "id": "VdOeUc0Uy02C"
      }
    },
    {
      "cell_type": "code",
      "source": [
        "import re\n",
        "n = int(input())\n",
        "for _ in range(n):\n",
        "    x, y = input().split(' ')\n",
        "    m = re.match(r'<[A-Za-z](\\w|-|\\.|_)+@[A-Za-z]+\\.[A-Za-z]{1,3}>', y)\n",
        "    if m:\n",
        "        print(x,y)"
      ],
      "metadata": {
        "id": "GJSLmiWzy1O7"
      },
      "execution_count": null,
      "outputs": []
    },
    {
      "cell_type": "markdown",
      "source": [
        "Hex Color Code"
      ],
      "metadata": {
        "id": "wHTe1nGjy3BK"
      }
    },
    {
      "cell_type": "code",
      "source": [
        "import re\n",
        "\n",
        "for _ in range(int(input())):\n",
        "    matches = re.findall(r':?.(#[0-9a-fA-F]{6}|#[0-9a-fA-F]{3})', input())\n",
        "    if matches:\n",
        "        print(*matches, sep='\\n')"
      ],
      "metadata": {
        "id": "FZr_F48Ry9Wq"
      },
      "execution_count": null,
      "outputs": []
    },
    {
      "cell_type": "markdown",
      "source": [
        "HTML Parser - Part 1"
      ],
      "metadata": {
        "id": "k4oX34t-zFmM"
      }
    },
    {
      "cell_type": "code",
      "source": [
        "\n",
        "from html.parser import HTMLParser\n",
        "\n",
        "class MyHTMLParser(HTMLParser):\n",
        "    def handle_starttag(self, tag, attrs):\n",
        "        print(\"Start :\", tag)\n",
        "        for att in attrs:\n",
        "            print(\"-> {} > {}\".format(att[0], att[1]))\n",
        "    def handle_endtag(self, tag):\n",
        "        print(\"End   :\", tag)\n",
        "    def handle_startendtag(self, tag, attrs):\n",
        "        print(\"Empty :\", tag)\n",
        "        for att in attrs:\n",
        "            print(\"-> {} > {}\".format(att[0], att[1]))\n",
        "\n",
        "# instantiate the parser and fed it some HTML\n",
        "parser = MyHTMLParser()\n",
        "\n",
        "N = int(input())\n",
        "\n",
        "for _ in range(N):\n",
        "    s = input()\n",
        "    parser.feed(s)\n"
      ],
      "metadata": {
        "id": "vFdGyNkmzF5f"
      },
      "execution_count": null,
      "outputs": []
    },
    {
      "cell_type": "markdown",
      "source": [
        "HTML Parser - Part 2"
      ],
      "metadata": {
        "id": "TPdX2klMzKRj"
      }
    },
    {
      "cell_type": "code",
      "source": [
        "\n",
        "from html.parser import HTMLParser\n",
        "\n",
        "class MyHTMLParser(HTMLParser):\n",
        "    def handle_data(self, data):\n",
        "        if data.strip():\n",
        "            print(\">>> Data\")\n",
        "            print(data)\n",
        "\n",
        "    def handle_comment(self, data):\n",
        "        number_of_line = len(data.split('\\n'))\n",
        "        if number_of_line > 1:\n",
        "            print(\">>> Multi-line Comment\")\n",
        "        else:\n",
        "            print(\">>> Single-line Comment\")\n",
        "        if data.strip():\n",
        "            print(data)\n",
        "\n",
        "html = \"\"\n",
        "for i in range(int(input())):\n",
        "    html += input().rstrip()\n",
        "    html += '\\n'\n",
        "\n",
        "parser = MyHTMLParser()\n",
        "parser.feed(html)\n",
        "parser.close()\n"
      ],
      "metadata": {
        "id": "kuegIXNyzKtK"
      },
      "execution_count": null,
      "outputs": []
    },
    {
      "cell_type": "markdown",
      "source": [
        "Detect HTML Tags, Attributes and Attribute Values"
      ],
      "metadata": {
        "id": "FINjX9F7zU3g"
      }
    },
    {
      "cell_type": "code",
      "source": [
        "from html.parser import HTMLParser\n",
        "\n",
        "class MyHTMLParser(HTMLParser):\n",
        "    def handle_starttag(self, tag, attrs):\n",
        "        print(tag)\n",
        "        for att in attrs:\n",
        "            print(\"-> {} > {}\".format(att[0], att[1]))\n",
        "\n",
        "parser = MyHTMLParser()\n",
        "\n",
        "N = int(input())\n",
        "\n",
        "for _ in range(N):\n",
        "    s = input()\n",
        "    parser.feed(s)\n"
      ],
      "metadata": {
        "id": "hD1xQLD8zVPV"
      },
      "execution_count": null,
      "outputs": []
    },
    {
      "cell_type": "markdown",
      "source": [
        "Validating UID"
      ],
      "metadata": {
        "id": "0xsb98qmzaJk"
      }
    },
    {
      "cell_type": "code",
      "source": [
        "import re\n",
        "\n",
        "no_repeats = r\"(?!.*(.).*\\1)\"\n",
        "two_or_more_upper = r\"(?=(?:.*[A-Z]){2,})\"\n",
        "three_or_more_digits = r\"(?=(?:.*\\d){3,})\"\n",
        "ten_alphanumerics = r\"[a-zA-Z0-9]{10}\"\n",
        "filters = no_repeats, two_or_more_upper, three_or_more_digits, ten_alphanumerics\n",
        "\n",
        "for uid in [input() for _ in range(int(input()))]:\n",
        "    if all([re.match(f, uid) for f in filters]):\n",
        "        print(\"Valid\")\n",
        "    else:\n",
        "        print(\"Invalid\")\n"
      ],
      "metadata": {
        "id": "5ThHd18szamp"
      },
      "execution_count": null,
      "outputs": []
    },
    {
      "cell_type": "markdown",
      "source": [
        "Validating Credit Card Numbers"
      ],
      "metadata": {
        "id": "mEx2ORKrzgqD"
      }
    },
    {
      "cell_type": "code",
      "source": [
        "# importing the regular expression module\n",
        "import re\n",
        "\n",
        "# compile the patterns\n",
        "pattern = re.compile(\n",
        "    r'^'\n",
        "    r'(?!.*(\\d)(-?\\1){3})'\n",
        "    r'[456]\\d{3}'\n",
        "    r'(?:-?\\d{4}){3}'\n",
        "    r'$')\n",
        "\n",
        "# using for loop to the input from user\n",
        "for _ in range(int(input().strip())):\n",
        "\n",
        "    #using pattern to search if the number is valid\n",
        "    print('Valid' if pattern.search(input().strip()) else 'Invalid')\n"
      ],
      "metadata": {
        "id": "eneqOiH6zhF5"
      },
      "execution_count": null,
      "outputs": []
    },
    {
      "cell_type": "markdown",
      "source": [
        "Validating Postal Codes"
      ],
      "metadata": {
        "id": "ViaJNHD0ztVB"
      }
    },
    {
      "cell_type": "code",
      "source": [
        "import re\n",
        "\n",
        "P = input()\n",
        "\n",
        "regex_integer_in_range = r'^[1-9][\\d]{5}$'  # Do not delete 'r'.\n",
        "regex_alternating_repetitive_digit_pair = r'(\\d)(?=\\d\\1)'  # Do not delete 'r'.\n",
        "\n",
        "print (bool(re.match(regex_integer_in_range, P))\n",
        "       and len(re.findall(regex_alternating_repetitive_digit_pair, P)) < 2)\n",
        "\n",
        "\n",
        "import re\n",
        "P = input()\n",
        "\n",
        "print (bool(re.match(regex_integer_in_range, P))\n",
        "and len(re.findall(regex_alternating_repetitive_digit_pair, P)) < 2)"
      ],
      "metadata": {
        "id": "7o_kYVkAzvS_"
      },
      "execution_count": null,
      "outputs": []
    },
    {
      "cell_type": "markdown",
      "source": [
        "Matrix Script"
      ],
      "metadata": {
        "id": "YIeF654uz0RA"
      }
    },
    {
      "cell_type": "code",
      "source": [
        "import math\n",
        "import os\n",
        "import random\n",
        "import re\n",
        "import sys\n",
        "\n",
        "\n",
        "first_multiple_input = input().rstrip().split()\n",
        "\n",
        "n = int(first_multiple_input[0])\n",
        "\n",
        "m = int(first_multiple_input[1])\n",
        "\n",
        "matrix = []\n",
        "\n",
        "for _ in range(n):\n",
        "    matrix_item = input()\n",
        "    matrix.append(matrix_item)\n",
        "s=\"\"\n",
        "for i in range(m):\n",
        "    for j in range(n):\n",
        "        s+=matrix[j][i]\n",
        "pattern=r\"(?<=[a-zA-Z0-9])[\\s!@#$%&]+(?=[a-zA-Z0-9])\"\n",
        "s=re.sub(pattern, \" \", s)\n",
        "print(s)"
      ],
      "metadata": {
        "id": "RMIJFwO1z0rT"
      },
      "execution_count": null,
      "outputs": []
    },
    {
      "cell_type": "markdown",
      "source": [
        "### XML"
      ],
      "metadata": {
        "id": "GYNjZUMHz8oH"
      }
    },
    {
      "cell_type": "markdown",
      "source": [
        "XML 1 - Find the Score"
      ],
      "metadata": {
        "id": "Hhcj9mBb0odi"
      }
    },
    {
      "cell_type": "code",
      "source": [
        "def get_attr_number(node):\n",
        "    counter = 0\n",
        "    counter += len(node.attrib)\n",
        "    for element in node:\n",
        "        counter += get_attr_number(element)\n",
        "    return counter\n",
        ""
      ],
      "metadata": {
        "id": "oCFCjmB80Bn2"
      },
      "execution_count": null,
      "outputs": []
    },
    {
      "cell_type": "markdown",
      "source": [
        "XML2 - Find the Maximum Depth"
      ],
      "metadata": {
        "id": "3G29WBDF0v4A"
      }
    },
    {
      "cell_type": "code",
      "source": [
        "maxdepth = 0\n",
        "def depth(elem, level):\n",
        "    global maxdepth\n",
        "    level += 1\n",
        "    if level > maxdepth:\n",
        "        maxdepth = level\n",
        "\n",
        "    for child in elem:\n",
        "        depth(child, level)"
      ],
      "metadata": {
        "id": "M2BU3Nm20wIp"
      },
      "execution_count": null,
      "outputs": []
    },
    {
      "cell_type": "markdown",
      "source": [
        "### Closures and Decorations"
      ],
      "metadata": {
        "id": "u5IA51rs1EOo"
      }
    },
    {
      "cell_type": "markdown",
      "source": [
        "Standardize Mobile Number Using Decorators"
      ],
      "metadata": {
        "id": "jo1qoD061T9i"
      }
    },
    {
      "cell_type": "code",
      "source": [
        "def wrapper(f):\n",
        "    def fun(l):\n",
        "        # complete the function\n",
        "        f([\"+91 \" + c[-10:-5] + \" \" + c[-5:] for c in l])\n",
        "    return fun"
      ],
      "metadata": {
        "id": "XxXiWXG41FE4"
      },
      "execution_count": null,
      "outputs": []
    },
    {
      "cell_type": "markdown",
      "source": [
        "Decorators 2 - Name Directory"
      ],
      "metadata": {
        "id": "Kwv6xx1T1Yvi"
      }
    },
    {
      "cell_type": "code",
      "source": [
        "def person_lister(f):\n",
        "    def inner(people):\n",
        "        # complete the function\n",
        "        return map(f, sorted(people, key= lambda p: int(p[2]))) # sort on age\n",
        "    return inner"
      ],
      "metadata": {
        "id": "Sl4zVwmF1ZUC"
      },
      "execution_count": null,
      "outputs": []
    },
    {
      "cell_type": "markdown",
      "source": [
        "### Numpy"
      ],
      "metadata": {
        "id": "SLw5W93G1oA2"
      }
    },
    {
      "cell_type": "markdown",
      "source": [
        "Arrays"
      ],
      "metadata": {
        "id": "0ko3CIzJ11Ym"
      }
    },
    {
      "cell_type": "code",
      "source": [
        "import numpy\n",
        "\n",
        "def arrays(arr):\n",
        "    arr.reverse()\n",
        "    b = numpy.array(arr, float)\n",
        "    return b\n",
        "\n",
        "\n",
        "arr = input().strip().split(' ')\n",
        "result = arrays(arr)\n",
        "print(result)"
      ],
      "metadata": {
        "id": "am_jZySe1pA7"
      },
      "execution_count": null,
      "outputs": []
    },
    {
      "cell_type": "markdown",
      "source": [
        "Shape and Reshape"
      ],
      "metadata": {
        "id": "7jg6Exth17f3"
      }
    },
    {
      "cell_type": "code",
      "source": [
        "import numpy\n",
        "\n",
        "my_array = numpy.array(input().split(), int)\n",
        "print(numpy.reshape(my_array, (3, 3)))"
      ],
      "metadata": {
        "id": "bHfbHeBU178J"
      },
      "execution_count": null,
      "outputs": []
    },
    {
      "cell_type": "markdown",
      "source": [
        "Transpose and Flatten"
      ],
      "metadata": {
        "id": "OoACpTBF2D6g"
      }
    },
    {
      "cell_type": "code",
      "source": [
        "import numpy\n",
        "from numpy import array, transpose\n",
        "\n",
        "n, _ = map(int, input().split())\n",
        "\n",
        "lst = []\n",
        "\n",
        "for _ in range(n):\n",
        "    lst.append(list(map(int, input().split())))\n",
        "\n",
        "numpy_arr = array(lst)\n",
        "\n",
        "print(transpose(numpy_arr))\n",
        "print(numpy_arr.flatten())"
      ],
      "metadata": {
        "id": "3sUTU36f2ETm"
      },
      "execution_count": null,
      "outputs": []
    },
    {
      "cell_type": "markdown",
      "source": [
        "Concatenate"
      ],
      "metadata": {
        "id": "A-zyqe8L2JSv"
      }
    },
    {
      "cell_type": "code",
      "source": [
        "import numpy\n",
        "\n",
        "N, M, P = map(int, input().split())\n",
        "p = [list(map(int, input().split())) for i in range(N)]\n",
        "m = [list(map(int, input().split())) for i in range(M)]\n",
        "\n",
        "arr1 = numpy.array(p)\n",
        "arr2 = numpy.array(m)\n",
        "\n",
        "print(numpy.concatenate((arr1, arr2), axis=0))"
      ],
      "metadata": {
        "id": "4Gzol5sZ2Ji_"
      },
      "execution_count": null,
      "outputs": []
    },
    {
      "cell_type": "markdown",
      "source": [
        "Zeros and Ones"
      ],
      "metadata": {
        "id": "k1zExP5k2Ob3"
      }
    },
    {
      "cell_type": "code",
      "source": [
        "import numpy\n",
        "\n",
        "input_list = list(map(int, input().split()))\n",
        "arr = numpy.array(input_list)\n",
        "\n",
        "print(numpy.zeros(arr, dtype=int))\n",
        "print(numpy.ones(arr, dtype=int))"
      ],
      "metadata": {
        "id": "Hb7lbLzQ2Oud"
      },
      "execution_count": null,
      "outputs": []
    },
    {
      "cell_type": "markdown",
      "source": [
        "Eye and Identity"
      ],
      "metadata": {
        "id": "qtAdDaJm2UAR"
      }
    },
    {
      "cell_type": "code",
      "source": [
        "import numpy\n",
        "\n",
        "numpy.set_printoptions(legacy=\"1.13\")\n",
        "\n",
        "N, M = map(int, input().split())\n",
        "print(numpy.eye(N, M, k=0))"
      ],
      "metadata": {
        "id": "fP5371zS2Ueq"
      },
      "execution_count": null,
      "outputs": []
    },
    {
      "cell_type": "markdown",
      "source": [
        "Array Mathematics"
      ],
      "metadata": {
        "id": "2EFkrXcF2Zlm"
      }
    },
    {
      "cell_type": "code",
      "source": [
        "import numpy\n",
        "\n",
        "size= tuple(map(int, input().split()))\n",
        "a, b = [numpy.array([input().split() for _ in range(size[0])],int) for i in range(2)]\n",
        "print(a+b, a-b, a*b, a//b, a%b,a**b, sep=\"\\n\")"
      ],
      "metadata": {
        "id": "vM6E1A9m2Z3y"
      },
      "execution_count": null,
      "outputs": []
    },
    {
      "cell_type": "markdown",
      "source": [
        "Floor, Ceil and Rint"
      ],
      "metadata": {
        "id": "RvK9CPKf2fed"
      }
    },
    {
      "cell_type": "code",
      "source": [
        "import numpy\n",
        "\n",
        "numpy.set_printoptions(legacy='1.13')\n",
        "A = numpy.array(input().split(), float)\n",
        "print(numpy.floor(A), numpy.ceil(A), numpy.rint(A), sep='\\n')"
      ],
      "metadata": {
        "id": "37POboOE2fv8"
      },
      "execution_count": null,
      "outputs": []
    },
    {
      "cell_type": "markdown",
      "source": [
        "Sum and Prod"
      ],
      "metadata": {
        "id": "7xYdrFsb2kXu"
      }
    },
    {
      "cell_type": "code",
      "source": [
        "import numpy\n",
        "\n",
        "N, M = map(int, input().split())\n",
        "arr = numpy.array([input().split() for _ in range(N)], int)\n",
        "print(numpy.prod(numpy.sum(arr, axis= 0)))"
      ],
      "metadata": {
        "id": "gd71JX5w2knR"
      },
      "execution_count": null,
      "outputs": []
    },
    {
      "cell_type": "markdown",
      "source": [
        "Min and Max"
      ],
      "metadata": {
        "id": "F_VJba5k2pxS"
      }
    },
    {
      "cell_type": "code",
      "source": [
        "import numpy\n",
        "\n",
        "N, M = list(map(int, input().split()))\n",
        "arr = numpy.array([input().split() for _ in range(N)], int)\n",
        "print(numpy.max(numpy.min(arr, axis=1)))"
      ],
      "metadata": {
        "id": "SWwdJo8F2qB0"
      },
      "execution_count": null,
      "outputs": []
    },
    {
      "cell_type": "markdown",
      "source": [
        "Mean, Var, and Std"
      ],
      "metadata": {
        "id": "cIeytAmy2v4i"
      }
    },
    {
      "cell_type": "code",
      "source": [
        "import numpy\n",
        "from numpy import mean, var, std\n",
        "\n",
        "n, _ = map(int, input().split())\n",
        "a = []\n",
        "\n",
        "for _ in range(n):\n",
        "    a.append(list(map(int, input().split())))\n",
        "\n",
        "print(mean(a, axis=1))\n",
        "print(var(a, axis=0))\n",
        "print(round(std(a, axis=None), 11))"
      ],
      "metadata": {
        "id": "iWfC8oaW2wHO"
      },
      "execution_count": null,
      "outputs": []
    },
    {
      "cell_type": "markdown",
      "source": [
        "Dot and Cross"
      ],
      "metadata": {
        "id": "GbGvDxUp27jL"
      }
    },
    {
      "cell_type": "code",
      "source": [
        "import numpy\n",
        "from numpy import dot\n",
        "\n",
        "n = int(input())\n",
        "a = [list(map(int, input().split())) for _ in range(n)]\n",
        "b = [list(map(int, input().split())) for _ in range(n)]\n",
        "print(dot(a, b))"
      ],
      "metadata": {
        "id": "4VidTdOO2-Az"
      },
      "execution_count": null,
      "outputs": []
    },
    {
      "cell_type": "markdown",
      "source": [
        "Inner and Outer"
      ],
      "metadata": {
        "id": "dTRRML_w3E2C"
      }
    },
    {
      "cell_type": "code",
      "source": [
        "import numpy\n",
        "\n",
        "A = numpy.array(input().split(), int)\n",
        "B = numpy.array(input().split(), int)\n",
        "print(numpy.inner(A, B))\n",
        "print(numpy.outer(A, B))"
      ],
      "metadata": {
        "id": "Q-QfsBmY3FSF"
      },
      "execution_count": null,
      "outputs": []
    },
    {
      "cell_type": "markdown",
      "source": [
        "Polynomials"
      ],
      "metadata": {
        "id": "6nt_yrbA3J6L"
      }
    },
    {
      "cell_type": "code",
      "source": [
        "import numpy\n",
        "\n",
        "p = numpy.array(input().split(), numpy.double)\n",
        "x = float(input())\n",
        "print(numpy.polyval(p, x))"
      ],
      "metadata": {
        "id": "GAjHaDYV3KRp"
      },
      "execution_count": null,
      "outputs": []
    },
    {
      "cell_type": "markdown",
      "source": [
        "Linear Algebra"
      ],
      "metadata": {
        "id": "1MsU5op_3PQL"
      }
    },
    {
      "cell_type": "code",
      "source": [
        "import numpy\n",
        "\n",
        "N = int(input())\n",
        "arr = numpy.array([input().split() for _ in range(N)], float)\n",
        "print(round(numpy.linalg.det(arr), 2))"
      ],
      "metadata": {
        "id": "DKfIO_TN3Ppt"
      },
      "execution_count": null,
      "outputs": []
    }
  ]
}