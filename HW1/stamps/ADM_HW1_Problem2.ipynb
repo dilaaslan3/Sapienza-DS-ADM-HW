{
  "nbformat": 4,
  "nbformat_minor": 0,
  "metadata": {
    "colab": {
      "provenance": []
    },
    "kernelspec": {
      "name": "python3",
      "display_name": "Python 3"
    },
    "language_info": {
      "name": "python"
    }
  },
  "cells": [
    {
      "cell_type": "markdown",
      "source": [
        "Birthday Cake Candles"
      ],
      "metadata": {
        "id": "FRm4SGsWFyxA"
      }
    },
    {
      "cell_type": "code",
      "execution_count": null,
      "metadata": {
        "id": "3ZvXBIdSFqwh"
      },
      "outputs": [],
      "source": [
        "#!/bin/python3\n",
        "\n",
        "import math\n",
        "import os\n",
        "import random\n",
        "import re\n",
        "import sys\n",
        "\n",
        "#\n",
        "# Complete the 'birthdayCakeCandles' function below.\n",
        "#\n",
        "# The function is expected to return an INTEGER.\n",
        "# The function accepts INTEGER_ARRAY candles as parameter.\n",
        "#\n",
        "\n",
        "def birthdayCakeCandles(candles):\n",
        "    count=0\n",
        "    max_candles = max(candles)\n",
        "    for i in range(len(candles)):\n",
        "        if(candles[i] == max_candles):\n",
        "            count+=1\n",
        "    return count\n",
        "\n",
        "if __name__ == '__main__':\n",
        "    fptr = open(os.environ['OUTPUT_PATH'], 'w')\n",
        "\n",
        "    candles_count = int(input().strip())\n",
        "\n",
        "    candles = list(map(int, input().rstrip().split()))\n",
        "\n",
        "    result = birthdayCakeCandles(candles)\n",
        "\n",
        "    fptr.write(str(result) + '\\n')\n",
        "\n",
        "    fptr.close()\n"
      ]
    },
    {
      "cell_type": "markdown",
      "source": [
        "Number Line Jumps"
      ],
      "metadata": {
        "id": "z7UVJpqLF0Sa"
      }
    },
    {
      "cell_type": "code",
      "source": [
        "#!/bin/python3\n",
        "\n",
        "import math\n",
        "import os\n",
        "import random\n",
        "import re\n",
        "import sys\n",
        "\n",
        "#\n",
        "# Complete the 'kangaroo' function below.\n",
        "#\n",
        "# The function is expected to return a STRING.\n",
        "# The function accepts following parameters:\n",
        "#  1. INTEGER x1\n",
        "#  2. INTEGER v1\n",
        "#  3. INTEGER x2\n",
        "#  4. INTEGER v2\n",
        "#\n",
        "\n",
        "def kangaroo(x1, v1, x2, v2):\n",
        "\n",
        "    if v1==v2:\n",
        "        return 'NO'\n",
        "    else:\n",
        "        if ((x1-x2+v2-v1)%(v2-v1)==0):\n",
        "            if (x1-x2+v2-v1)/(v2-v1)>0:\n",
        "                return 'YES'\n",
        "            else:\n",
        "                return 'NO'\n",
        "        else:\n",
        "            return 'NO'\n",
        "\n",
        "\n",
        "if __name__ == '__main__':\n",
        "    fptr = open(os.environ['OUTPUT_PATH'], 'w')\n",
        "\n",
        "    first_multiple_input = input().rstrip().split()\n",
        "\n",
        "    x1 = int(first_multiple_input[0])\n",
        "\n",
        "    v1 = int(first_multiple_input[1])\n",
        "\n",
        "    x2 = int(first_multiple_input[2])\n",
        "\n",
        "    v2 = int(first_multiple_input[3])\n",
        "\n",
        "    result = kangaroo(x1, v1, x2, v2)\n",
        "\n",
        "    fptr.write(result + '\\n')\n",
        "\n",
        "    fptr.close()"
      ],
      "metadata": {
        "id": "GCxrYjMoF5go"
      },
      "execution_count": null,
      "outputs": []
    },
    {
      "cell_type": "markdown",
      "source": [
        "Viral Advertising"
      ],
      "metadata": {
        "id": "DzuRYrBsF8vs"
      }
    },
    {
      "cell_type": "code",
      "source": [
        "#!/bin/python3\n",
        "\n",
        "import math\n",
        "import os\n",
        "import random\n",
        "import re\n",
        "import sys\n",
        "\n",
        "#\n",
        "# Complete the 'viralAdvertising' function below.\n",
        "#\n",
        "# The function is expected to return an INTEGER.\n",
        "# The function accepts INTEGER n as parameter.\n",
        "#\n",
        "\n",
        "def viralAdvertising(n):\n",
        "    sharing = 5\n",
        "    total = 0\n",
        "    for i in range(1, n+1):\n",
        "        like = sharing//2\n",
        "        total += like\n",
        "        sharing = like * 3\n",
        "    return total\n",
        "\n",
        "if __name__ == '__main__':\n",
        "    fptr = open(os.environ['OUTPUT_PATH'], 'w')\n",
        "\n",
        "    n = int(input().strip())\n",
        "\n",
        "    result = viralAdvertising(n)\n",
        "\n",
        "    fptr.write(str(result) + '\\n')\n",
        "\n",
        "    fptr.close()"
      ],
      "metadata": {
        "id": "FkWlBtdIF9Gi"
      },
      "execution_count": null,
      "outputs": []
    },
    {
      "cell_type": "markdown",
      "source": [
        "Recursive Digit Sum"
      ],
      "metadata": {
        "id": "DXctOq1NGB7L"
      }
    },
    {
      "cell_type": "code",
      "source": [
        "#!/bin/python3\n",
        "\n",
        "import math\n",
        "import os\n",
        "import random\n",
        "import re\n",
        "import sys\n",
        "\n",
        "#\n",
        "# Complete the 'superDigit' function below.\n",
        "#\n",
        "# The function is expected to return an INTEGER.\n",
        "# The function accepts following parameters:\n",
        "#  1. STRING n\n",
        "#  2. INTEGER k\n",
        "#\n",
        "\n",
        "def superDigit(n, k):\n",
        "    n = sum([int(n[i]) for i in range(len(n))]) * k\n",
        "    return superDigit(str(n), 1) if n > 9 else n\n",
        "\n",
        "if __name__ == '__main__':\n",
        "    fptr = open(os.environ['OUTPUT_PATH'], 'w')\n",
        "\n",
        "    first_multiple_input = input().rstrip().split()\n",
        "\n",
        "    n = first_multiple_input[0]\n",
        "\n",
        "    k = int(first_multiple_input[1])\n",
        "\n",
        "    result = superDigit(n, k)\n",
        "\n",
        "    fptr.write(str(result) + '\\n')\n",
        "\n",
        "    fptr.close()"
      ],
      "metadata": {
        "id": "1j8-n7iHGCN3"
      },
      "execution_count": null,
      "outputs": []
    },
    {
      "cell_type": "markdown",
      "source": [
        "Insertion Sort - Part 1"
      ],
      "metadata": {
        "id": "8d_nueG_GH73"
      }
    },
    {
      "cell_type": "code",
      "source": [
        "#!/bin/python3\n",
        "\n",
        "import math\n",
        "import os\n",
        "import random\n",
        "import re\n",
        "import sys\n",
        "\n",
        "#\n",
        "# Complete the 'insertionSort1' function below.\n",
        "#\n",
        "# The function accepts following parameters:\n",
        "#  1. INTEGER n\n",
        "#  2. INTEGER_ARRAY arr\n",
        "#\n",
        "\n",
        "def insertionSort1(n, arr):\n",
        "\n",
        "    rvs_list = arr[-1]\n",
        "\n",
        "    for i in range(len(arr)-2, -1, -1):\n",
        "\n",
        "        if arr[i] > rvs_list:\n",
        "            arr[i+1] = arr[i]\n",
        "            print(\" \".join(map(str, arr)))\n",
        "        else:\n",
        "            arr[i+1] = rvs_list\n",
        "            print(\" \".join(map(str, arr)))\n",
        "            break\n",
        "\n",
        "    if arr[0] > rvs_list:\n",
        "        arr[0] = rvs_list\n",
        "        print(\" \".join(map(str, arr)))\n",
        "\n",
        "if __name__ == '__main__':\n",
        "    n = int(input().strip())\n",
        "\n",
        "    arr = list(map(int, input().rstrip().split()))\n",
        "\n",
        "    insertionSort1(n, arr)"
      ],
      "metadata": {
        "id": "o5Nymev8GIPV"
      },
      "execution_count": null,
      "outputs": []
    },
    {
      "cell_type": "markdown",
      "source": [
        "Insertion Sort - Part 2"
      ],
      "metadata": {
        "id": "bF77bUi_GLak"
      }
    },
    {
      "cell_type": "code",
      "source": [
        "#!/bin/python3\n",
        "\n",
        "import math\n",
        "import os\n",
        "import random\n",
        "import re\n",
        "import sys\n",
        "\n",
        "#\n",
        "# Complete the 'insertionSort2' function below.\n",
        "#\n",
        "# The function accepts following parameters:\n",
        "#  1. INTEGER n\n",
        "#  2. INTEGER_ARRAY arr\n",
        "#\n",
        "\n",
        "def insertionSort1(start, arr):\n",
        "    rvs_list = arr[start]\n",
        "\n",
        "    for i in range(start-1, -1, -1):\n",
        "        if arr[i] > rvs_list:\n",
        "            arr[i+1] = arr[i]\n",
        "        else:\n",
        "            arr[i+1] = rvs_list\n",
        "            break\n",
        "    if arr[0] > rvs_list:\n",
        "        arr[0] = rvs_list\n",
        "\n",
        "def insertionSort2(n, arr):\n",
        "\n",
        "    for i in range(1, len(arr)):\n",
        "        insertionSort1(i, arr)\n",
        "        print(\" \".join(map(str, arr)))\n",
        "\n",
        "if __name__ == '__main__':\n",
        "    n = int(input().strip())\n",
        "\n",
        "    arr = list(map(int, input().rstrip().split()))\n",
        "\n",
        "    insertionSort2(n, arr)"
      ],
      "metadata": {
        "id": "e1VezK51GLzl"
      },
      "execution_count": null,
      "outputs": []
    }
  ]
}